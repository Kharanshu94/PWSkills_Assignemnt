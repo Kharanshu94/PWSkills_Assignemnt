{
 "cells": [
  {
   "cell_type": "markdown",
   "id": "9e89aa4b",
   "metadata": {},
   "source": [
    "### TOPIC: Python Basics Variable"
   ]
  },
  {
   "cell_type": "markdown",
   "id": "5545c89c",
   "metadata": {},
   "source": [
    "#### 1. Declare two variables, `x` and `y`, and assign them integer values.Swap the values of these variables without using any temporary variable."
   ]
  },
  {
   "cell_type": "code",
   "execution_count": 3,
   "id": "a11ccc3d",
   "metadata": {},
   "outputs": [
    {
     "name": "stdout",
     "output_type": "stream",
     "text": [
      "20\n",
      "10\n"
     ]
    }
   ],
   "source": [
    "#---- Declaring variables -----\n",
    "x = 10\n",
    "y = 20\n",
    "\n",
    "#---- Swaping variables ------\n",
    "x, y = y, x\n",
    "\n",
    "#---- Printing for beter understanding -----\n",
    "print(x)\n",
    "print(y)"
   ]
  },
  {
   "cell_type": "markdown",
   "id": "1c0796a9",
   "metadata": {},
   "source": [
    "#### Create a program that calculates the area of a rectangle. Take the length and width as inputs from the user and store them in variables. Calculate and display the area."
   ]
  },
  {
   "cell_type": "code",
   "execution_count": 5,
   "id": "98199ea5",
   "metadata": {},
   "outputs": [
    {
     "name": "stdout",
     "output_type": "stream",
     "text": [
      "Please Enter Width:- 10\n",
      "Please Enter Lenght:- 12\n",
      "120\n"
     ]
    }
   ],
   "source": [
    "#--- Taking Width and length from user ----\n",
    "\n",
    "w = int(input(\"Please Enter Width:- \"))\n",
    "l = int(input(\"Please Enter Lenght:- \"))\n",
    "\n",
    "#--- Calculating Area based on given Input ----\n",
    "area = w * l\n",
    "\n",
    "#----- printing For user reference ----\n",
    "print(area)"
   ]
  },
  {
   "cell_type": "markdown",
   "id": "1529a3e0",
   "metadata": {},
   "source": [
    "#### Write a Python program that converts temperature from Celsius to Fahrenheit. Take the temperature in Celsius as input, store it in a variable, convert it to Fahrenheit, and display the result."
   ]
  },
  {
   "cell_type": "code",
   "execution_count": 7,
   "id": "fbe4d88f",
   "metadata": {},
   "outputs": [
    {
     "name": "stdout",
     "output_type": "stream",
     "text": [
      "Please enter temprature in Celsus:- 100\n",
      "212.0\n"
     ]
    }
   ],
   "source": [
    "#---- Taking Temperature in Celsus ----\n",
    "c = int(input(\"Please enter temprature in Celsus:- \"))\n",
    "\n",
    "#--- Converting Celsus in Fahrenheit ----\n",
    "F = c * (9/5) + 32\n",
    "\n",
    "#---- printing result for better visibility ---\n",
    "print(F)"
   ]
  },
  {
   "cell_type": "markdown",
   "id": "2445edec",
   "metadata": {},
   "source": [
    "#### Write a Python program that takes a string as input and prints the length of the string."
   ]
  },
  {
   "cell_type": "code",
   "execution_count": 8,
   "id": "5534ca99",
   "metadata": {},
   "outputs": [
    {
     "name": "stdout",
     "output_type": "stream",
     "text": [
      "Please Enter your value:- kharanshu\n",
      "9\n"
     ]
    }
   ],
   "source": [
    "#--- Taking Input from the user -----\n",
    "x = input(\"Please Enter your value:- \")\n",
    "\n",
    "#---- Calculating length of the input stirng --\n",
    "x = len(x)\n",
    "\n",
    "#--- printing ---\n",
    "print(x)"
   ]
  },
  {
   "cell_type": "markdown",
   "id": "cda7984e",
   "metadata": {},
   "source": [
    "#### Create a program that takes a sentence from the user and counts the number of vowels (a, e, i, o, u) in the string."
   ]
  },
  {
   "cell_type": "code",
   "execution_count": 16,
   "id": "0f3ff496",
   "metadata": {},
   "outputs": [
    {
     "name": "stdout",
     "output_type": "stream",
     "text": [
      "Please Enter your Senetence:- aeiou\n",
      "5\n"
     ]
    }
   ],
   "source": [
    "#----- Taking Sentence from User as input ----\n",
    "sentence = input(\"Please Enter your Senetence:- \")\n",
    "\n",
    "#----- Finding vovels in the string ----\n",
    "count = 0\n",
    "vovels = ['a','e','i','o','u']\n",
    "\n",
    "for i in sentence.lower():\n",
    "    if i in vovels:\n",
    "        count+=1\n",
    "\n",
    "#---- printing final Output ----\n",
    "print(count) "
   ]
  },
  {
   "cell_type": "markdown",
   "id": "e9f18104",
   "metadata": {},
   "source": [
    "#### Given a string, reverse the order of characters using string slicing and print the reversed string."
   ]
  },
  {
   "cell_type": "code",
   "execution_count": 18,
   "id": "37d3aa31",
   "metadata": {},
   "outputs": [
    {
     "name": "stdout",
     "output_type": "stream",
     "text": [
      "uhsnarahk\n"
     ]
    }
   ],
   "source": [
    "#----- Declaring variable with string ----\n",
    "s = \"kharanshu\"\n",
    "\n",
    "#----- Reversing the Order by indexing ----\n",
    "s = s[::-1]\n",
    "\n",
    "#---- Printing ----\n",
    "print(s)"
   ]
  },
  {
   "cell_type": "markdown",
   "id": "411312df",
   "metadata": {},
   "source": [
    "#### Write a program that takes a string as input and checks if it is a palindrome (reads the same forwards and backwards)."
   ]
  },
  {
   "cell_type": "code",
   "execution_count": 22,
   "id": "e7f7765d",
   "metadata": {},
   "outputs": [
    {
     "name": "stdout",
     "output_type": "stream",
     "text": [
      "Please enter name to see if it's palindrome or Not:- kayak\n",
      "It is palinedrome\n"
     ]
    }
   ],
   "source": [
    "#---- Taking String as Input from the user ----\n",
    "a1 = input(\"Please enter name to see if it's palindrome or Not:- \")\n",
    "\n",
    "#---- Reversing the String with indexing ----\n",
    "a2 = a1[::-1]\n",
    "\n",
    "#---- Checking if its palinedrome or NOt ----\n",
    "if a1 == a2:\n",
    "    print(\"It is palinedrome\")\n",
    "else:\n",
    "    print(\"Better luck next time\")\n"
   ]
  },
  {
   "cell_type": "markdown",
   "id": "429f368f",
   "metadata": {},
   "source": [
    "#### Create a program that takes a string as input and removes all the spaces from it. Print the modified string without spaces."
   ]
  },
  {
   "cell_type": "code",
   "execution_count": 30,
   "id": "aab6857f",
   "metadata": {},
   "outputs": [
    {
     "name": "stdout",
     "output_type": "stream",
     "text": [
      "Please enter your to remove spaces:-    Kharanshu Parekh    \n",
      "Kharanshu Parekh\n"
     ]
    }
   ],
   "source": [
    "#---- taking input from the user ---\n",
    "r = input(\"Please enter your to remove spaces:- \")\n",
    "\n",
    "#--- removing the spaces from the string and reprint ---\n",
    "r1 = r.strip()\n",
    "print(r1)"
   ]
  }
 ],
 "metadata": {
  "kernelspec": {
   "display_name": "Python 3 (ipykernel)",
   "language": "python",
   "name": "python3"
  },
  "language_info": {
   "codemirror_mode": {
    "name": "ipython",
    "version": 3
   },
   "file_extension": ".py",
   "mimetype": "text/x-python",
   "name": "python",
   "nbconvert_exporter": "python",
   "pygments_lexer": "ipython3",
   "version": "3.9.7"
  }
 },
 "nbformat": 4,
 "nbformat_minor": 5
}
